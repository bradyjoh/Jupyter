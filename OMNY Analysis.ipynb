{
 "cells": [
  {
   "cell_type": "markdown",
   "id": "88fe7c26-3814-46ba-aae7-4628d45011c5",
   "metadata": {},
   "source": [
    "# OMNY Analysis\n",
    "\n",
    "This notebook is created with the goal of analysing transit data. By passing in a CSV dataset exported by NYC MTA's OMNY fare system, information such as time of day, trips per week, most-visited stations, and more can be determined"
   ]
  },
  {
   "cell_type": "markdown",
   "id": "68a474c2-1b4b-4e64-99fa-6e2cdf2389ed",
   "metadata": {},
   "source": [
    "## Getting the CSV Data\n",
    "\n",
    "- Go to https://omny.info/ and log in\n",
    "- Go to Trips https://omny.info/account/trips and update the filter to show the past 12 months (the max time range possible)\n",
    "- Scroll to the bottom of the page, click \"Download trip history\" and pick CSV and then download\n",
    "- (Optional) manually merge this data with previously-downloaded data using Excel or Sublime\n",
    "  - Alternatively, Pandas can read multiple CSV files and pick unique rows\n",
    "- Place the CSV files in the same directory as the Jupyter notebook, aka this Git repo"
   ]
  },
  {
   "cell_type": "code",
   "execution_count": null,
   "id": "1e1ddd41-4cdd-465b-bf50-53bcae3a7335",
   "metadata": {},
   "outputs": [],
   "source": [
    "# Load libraries\n",
    "import pandas as pd # pd is the standard alias https://pandas.pydata.org/docs/getting_started/intro_tutorials/01_table_oriented.html"
   ]
  },
  {
   "cell_type": "markdown",
   "id": "e75012d8-7568-439c-b629-2000284267b3",
   "metadata": {},
   "source": [
    "## Loading the CSV Data\n",
    "\n",
    "- Read the CSV files into Pandas as separate dataframes\n",
    "- Merge them together using concat\n",
    "- Get the unique rows based on Reference ID, in case the OMNY exports had overlapping data\n",
    "- Resources\n",
    "  - https://medium.com/@harryfry/combining-multiple-csv-files-into-one-with-pandas-97f631d67960\n",
    "  - https://www.geeksforgeeks.org/how-to-merge-multiple-csv-files-into-a-single-pandas-dataframe/#\n",
    "  - Use lower_case_with_underscore https://peps.python.org/pep-0008/#function-and-variable-names\n",
    "  - https://pandas.pydata.org/docs/reference/api/pandas.DataFrame.drop_duplicates.html\n",
    "  - https://pandas.pydata.org/docs/reference/api/pandas.concat.html"
   ]
  },
  {
   "cell_type": "code",
   "execution_count": null,
   "id": "8f407421-b04b-4fdf-b939-78b790e367bd",
   "metadata": {},
   "outputs": [],
   "source": [
    "# Edit this to update the CSV data files to be considered\n",
    "files_to_read = ['trip-history.csv','trip-history2.csv']\n",
    "\n",
    "# Read from CSV and concatenate in one line\n",
    "# Index is not important and can be ignored \n",
    "df = pd.concat(map(pd.read_csv, files_to_read), ignore_index=True)\n",
    "\n",
    "print(\"Raw CSV Data has row count of\", len(df))\n",
    "\n",
    "# Reference is a unique ID per fare payment, and can be used to get unique rows\n",
    "df.drop_duplicates(subset=['Reference'],inplace=True,ignore_index=True)\n",
    "\n",
    "print(\"Unique CSV Data has row count of\", len(df))\n"
   ]
  },
  {
   "cell_type": "markdown",
   "id": "c372128e-a93d-43a7-99ab-9eabcf19ef23",
   "metadata": {},
   "source": [
    "## Massage and Format the DataFrame\n",
    "\n",
    "- The DataFrame, upon initial read from CSV, is mostly Objects\n",
    "```\n",
    "Data columns (total 7 columns):\n",
    " #   Column             Dtype \n",
    "---  ------             ----- \n",
    " 0   Reference          int64 \n",
    " 1   Transit Account #  int64 \n",
    " 2   Trip Time          object\n",
    " 3   Mode               object\n",
    " 4   Location           object\n",
    " 5   Product Type       object\n",
    " 6   Fare Amount ($)    object\n",
    "dtypes: int64(2), object(5)\n",
    "```\n",
    "- However, many of the fields are categorical, meaning there is a finite set of possibile values. This allows Pandas to process it more efficiently\n",
    "- Some fields are also date-based or numeric, and can be interpreted as such\n",
    "- The column names can also be hard to reference, given their whitespace and special characters. They can be renamed\n",
    "- Resources\n",
    "  - https://pandas.pydata.org/docs/reference/api/pandas.DataFrame.rename.html\n",
    "  - https://pandas.pydata.org/docs/reference/api/pandas.DataFrame.info.html#pandas.DataFrame.info\n",
    "  - https://pandas.pydata.org/docs/reference/api/pandas.DataFrame.astype.html\n",
    "  - https://lifewithdata.com/2022/02/28/how-to-convert-a-string-column-to-float-in-pandas/\n",
    "  - https://stackoverflow.com/questions/32464280/converting-currency-with-to-numbers-in-python-pandas\n",
    "  - https://pandas.pydata.org/docs/reference/api/pandas.to_datetime.html"
   ]
  },
  {
   "cell_type": "code",
   "execution_count": null,
   "id": "37c7376b-2a1a-4dbc-bed5-ea5edd92a454",
   "metadata": {},
   "outputs": [],
   "source": [
    "# Rename columns to be easier to reference\n",
    "df = df.rename(columns={'Reference':'trip_id',\n",
    "                   'Transit Account #':'rider_id',\n",
    "                   'Trip Time':'start_time',\n",
    "                   'Mode':'transit_mode',\n",
    "                   'Location':'start_location',\n",
    "                   'Product Type':'product_type',\n",
    "                   'Fare Amount ($)':'fare_cost'})\n",
    "\n",
    "# Convert categorical fields from object to category\n",
    "df = df.astype({'rider_id': 'category','transit_mode': 'category','start_location': 'category','product_type': 'category'})\n",
    "\n",
    "# Convert object column with \"$2.75\" to a float, stripping out the $ to prepare it for interpretation\n",
    "df['fare_cost'] = df['fare_cost'].astype(str).str.replace('$', '').astype(float)\n",
    "\n",
    "\n",
    "# Convert Trip Time object column with value such as 2022-07-19 20:50:29 into a datetime type\n",
    "df['start_time'] = pd.to_datetime(df['start_time'])\n",
    "\n",
    "\n",
    "\n",
    "df.info(show_counts=False)\n",
    "df"
   ]
  }
 ],
 "metadata": {
  "kernelspec": {
   "display_name": "Python 3 (ipykernel)",
   "language": "python",
   "name": "python3"
  },
  "language_info": {
   "codemirror_mode": {
    "name": "ipython",
    "version": 3
   },
   "file_extension": ".py",
   "mimetype": "text/x-python",
   "name": "python",
   "nbconvert_exporter": "python",
   "pygments_lexer": "ipython3",
   "version": "3.11.4"
  }
 },
 "nbformat": 4,
 "nbformat_minor": 5
}
