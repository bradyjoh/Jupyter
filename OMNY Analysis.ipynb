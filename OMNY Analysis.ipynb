{
 "cells": [
  {
   "cell_type": "markdown",
   "id": "88fe7c26-3814-46ba-aae7-4628d45011c5",
   "metadata": {},
   "source": [
    "# OMNY Analysis\n",
    "\n",
    "This notebook is created with the goal of analysing transit data. By passing in a CSV dataset exported by NYC MTA's OMNY fare system, information such as time of day, trips per week, most-visited locations, and more can be determined"
   ]
  },
  {
   "cell_type": "markdown",
   "id": "68a474c2-1b4b-4e64-99fa-6e2cdf2389ed",
   "metadata": {},
   "source": [
    "## Getting the CSV Data\n",
    "\n",
    "- Go to https://omny.info/ and log in\n",
    "- Go to Trips https://omny.info/account/trips and update the filter to show the past 12 months (the max time range possible)\n",
    "- Scroll to the bottom of the page, click \"Download trip history\" and pick CSV and then download\n",
    "- (Optional) manually merge this data with previously-downloaded data using Excel or Sublime\n",
    "  - Alternatively, Pandas can read multiple CSV files and pick unique rows\n",
    "- Place the CSV files in the same directory as the Jupyter notebook, aka this Git repo"
   ]
  },
  {
   "cell_type": "code",
   "execution_count": null,
   "id": "1e1ddd41-4cdd-465b-bf50-53bcae3a7335",
   "metadata": {},
   "outputs": [],
   "source": [
    "# Load libraries\n",
    "import pandas as pd # pd is the standard alias https://pandas.pydata.org/docs/getting_started/intro_tutorials/01_table_oriented.html\n",
    "import seaborn as sns # sns is the convention https://seaborn.pydata.org/tutorial/introduction.html\n",
    "import numpy as np\n",
    "import calendar"
   ]
  },
  {
   "cell_type": "markdown",
   "id": "e75012d8-7568-439c-b629-2000284267b3",
   "metadata": {},
   "source": [
    "## Loading the CSV Data\n",
    "\n",
    "- Read the CSV files into Pandas as separate dataframes\n",
    "- Merge them together using concat\n",
    "- Get the unique rows based on Reference ID, in case the OMNY exports had overlapping data\n",
    "- Resources\n",
    "  - https://medium.com/@harryfry/combining-multiple-csv-files-into-one-with-pandas-97f631d67960\n",
    "  - https://www.geeksforgeeks.org/how-to-merge-multiple-csv-files-into-a-single-pandas-dataframe/#\n",
    "  - Use lower_case_with_underscore https://peps.python.org/pep-0008/#function-and-variable-names\n",
    "  - https://pandas.pydata.org/docs/reference/api/pandas.DataFrame.drop_duplicates.html\n",
    "  - https://pandas.pydata.org/docs/reference/api/pandas.concat.html"
   ]
  },
  {
   "cell_type": "code",
   "execution_count": null,
   "id": "8f407421-b04b-4fdf-b939-78b790e367bd",
   "metadata": {},
   "outputs": [],
   "source": [
    "# Edit this to update the CSV data files to be considered\n",
    "files_to_read = ['trip-history.csv','trip-history2.csv','trip-history3.csv']\n",
    "\n",
    "# Read from CSV and concatenate in one line\n",
    "# Index is not important and can be ignored \n",
    "df = pd.concat(map(pd.read_csv, files_to_read), ignore_index=True)\n",
    "\n",
    "print('Raw CSV Data has row count of', len(df))\n",
    "\n",
    "# Reference is a unique ID per fare payment, and can be used to get unique rows\n",
    "df.drop_duplicates(subset=['Reference'],inplace=True,ignore_index=True)\n",
    "\n",
    "print('Unique CSV Data has row count of', len(df))"
   ]
  },
  {
   "cell_type": "markdown",
   "id": "c372128e-a93d-43a7-99ab-9eabcf19ef23",
   "metadata": {},
   "source": [
    "## Massage and Format the DataFrame\n",
    "\n",
    "- The DataFrame, upon initial read from CSV, is mostly Objects\n",
    "```\n",
    "Data columns (total 7 columns):\n",
    " #   Column             Dtype \n",
    "---  ------             ----- \n",
    " 0   Reference          int64 \n",
    " 1   Transit Account #  int64 \n",
    " 2   Trip Time          object\n",
    " 3   Mode               object\n",
    " 4   Location           object\n",
    " 5   Product Type       object\n",
    " 6   Fare Amount ($)    object\n",
    "dtypes: int64(2), object(5)\n",
    "```\n",
    "- However, many of the fields are categorical, meaning there is a finite set of possibile values. This allows Pandas to process it more efficiently\n",
    "- Some fields are also date-based or numeric, and can be interpreted as such\n",
    "- The column names can also be hard to reference, given their whitespace and special characters. They can be renamed\n",
    "- Resources\n",
    "  - https://pandas.pydata.org/docs/reference/api/pandas.DataFrame.rename.html\n",
    "  - https://pandas.pydata.org/docs/reference/api/pandas.DataFrame.info.html#pandas.DataFrame.info\n",
    "  - https://pandas.pydata.org/docs/reference/api/pandas.DataFrame.astype.html\n",
    "  - https://lifewithdata.com/2022/02/28/how-to-convert-a-string-column-to-float-in-pandas/\n",
    "  - https://stackoverflow.com/questions/32464280/converting-currency-with-to-numbers-in-python-pandas\n",
    "  - https://pandas.pydata.org/docs/reference/api/pandas.to_datetime.html\n",
    "  - Date filtering https://sparkbyexamples.com/pandas/pandas-filter-dataframe-rows-on-dates/"
   ]
  },
  {
   "cell_type": "code",
   "execution_count": null,
   "id": "37c7376b-2a1a-4dbc-bed5-ea5edd92a454",
   "metadata": {},
   "outputs": [],
   "source": [
    "# Rename columns to be easier to reference\n",
    "df = df.rename(columns={'Reference':'trip_id',\n",
    "                   'Transit Account #':'rider_id',\n",
    "                   'Trip Time':'start_time',\n",
    "                   'Mode':'transit_mode',\n",
    "                   'Location':'start_location',\n",
    "                   'Product Type':'product_type',\n",
    "                   'Fare Amount ($)':'fare_cost'})\n",
    "\n",
    "# Optional: Filter the DataFrame down between a specific start and end date\n",
    "#df = df[(df['start_time'] > \"2020-09-20\") & (df['start_time'] < \"2021-11-17\")]\n",
    "\n",
    "# Convert categorical fields from object to category\n",
    "df = df.astype({'rider_id': 'category','transit_mode': 'category','start_location': 'category','product_type': 'category'})\n",
    "\n",
    "# Convert object column with \"$2.75\" to a float, stripping out the $ to prepare it for interpretation\n",
    "df['fare_cost'] = df['fare_cost'].astype(str).str.replace('$', '').astype(float)\n",
    "\n",
    "\n",
    "# Convert Trip Time object column with value such as 2022-07-19 20:50:29 into a datetime type\n",
    "df['start_time'] = pd.to_datetime(df['start_time'])\n",
    "\n",
    "df.info(show_counts=False)\n",
    "df"
   ]
  },
  {
   "cell_type": "markdown",
   "id": "e2d5b186-1e53-4f0c-8784-e68351ec9695",
   "metadata": {},
   "source": [
    "## Location-based analysis\n",
    "\n",
    "- This looks at how the different locations and stops in the MTA system are accessed. \n",
    "  - How many locations have only been visited once?\n",
    "  - What are the most popular locations?\n",
    "  - Do the different rider_ids frequent different locations?\n",
    "- Resources\n",
    "  - https://subwaystats.com/ has a full list of station names for the subway\n",
    "  - Use a semicolon after plotting to avoid text such as `<Axes: xlabel='count', ylabel='start_location'>` from showing before the plot https://stackoverflow.com/questions/57165540/hide-text-before-seaborn-barplot\n",
    "  - Use `sns.set(rc={'figure.figsize':(5,20)})` (x,y) to change the plot size https://stackoverflow.com/questions/31594549/how-to-change-the-figure-size-of-a-seaborn-axes-or-figure-level-plot\n",
    "  - Add `.set(xlabel='x-axis label', ylabel='y-axis label')` to add specific labels https://www.statology.org/seaborn-axis-labels/\n",
    "  - Add a title using the same method, `.set(title='title')` https://www.statology.org/seaborn-title/\n",
    "  - Order by the number of occurrences https://stackoverflow.com/questions/46623583/order-categories-by-count-in-a-seaborn-countplot\n",
    "  - Mix this with `.iloc[:10]` before `.index` to limit to the top 10 https://stackoverflow.com/questions/32891211/limit-the-number-of-groups-shown-in-seaborn-countplot\n",
    "  - Get an Index from a series or dataframe and convert it to a full list of its values https://pandas.pydata.org/docs/reference/api/pandas.Index.tolist.html\n",
    "  - Get a Series based on frequency/count https://stackoverflow.com/questions/48628417/how-to-select-rows-in-pandas-dataframe-where-value-appears-more-than-once\n",
    "  - Prevent the error `A value is trying to be set on a copy of a slice from a DataFrame.` by using .copy() https://stackoverflow.com/questions/44028898/a-value-is-trying-to-be-set-on-a-copy-of-a-slice-from-a-dataframe-pandas\n",
    "  - Select rows matching a certain list of values `df[df['A'].isin([3, 6])]` https://stackoverflow.com/questions/12096252/use-a-list-of-values-to-select-rows-from-a-pandas-dataframe\n",
    "  - Categories stick around until removed manually https://pandas.pydata.org/docs/reference/api/pandas.CategoricalIndex.remove_unused_categories.html\n",
    "  - I can use `.set(xscale='log')` to change the scale from linear to log"
   ]
  },
  {
   "cell_type": "code",
   "execution_count": null,
   "id": "80dd809c-3c26-4e80-a03a-17c825697f1b",
   "metadata": {},
   "outputs": [],
   "source": [
    "sns.set(rc={'figure.figsize':(5,5)})\n",
    "sns.countplot(y=df['start_location'], order=df['start_location'].value_counts().iloc[:15].index).set(ylabel=None, xlabel=None, title='Start Location Frequency (Top 15)');"
   ]
  },
  {
   "cell_type": "code",
   "execution_count": null,
   "id": "7f17dfc4-57b8-4c0f-a028-68be2ad28301",
   "metadata": {},
   "outputs": [],
   "source": [
    "sns.set(rc={'figure.figsize':(5,20)})\n",
    "sns.countplot(y=df['start_location']).set(ylabel=None, xlabel=None, title='Start Location Frequency (Alphabetical)');"
   ]
  },
  {
   "cell_type": "code",
   "execution_count": null,
   "id": "b69af66f-e0bd-4b7c-b119-ec96eefb8b85",
   "metadata": {},
   "outputs": [],
   "source": [
    "# Output a Series with the Index as the location and the Value as the count\n",
    "frequencies = df['start_location'].value_counts()\n",
    "\n",
    "# Use the Series with a filter to get only the locations with a count of 1, and then get the count and the list of indices (location names)\n",
    "print('Locations that have been visited only once:', len(frequencies[frequencies == 1]), sorted(frequencies[frequencies == 1].index.to_list()))"
   ]
  },
  {
   "cell_type": "code",
   "execution_count": null,
   "id": "d24b3d25-1345-4e43-976d-5838459efa96",
   "metadata": {},
   "outputs": [],
   "source": [
    "# Output a Series with the Index as the location and the Value as the count\n",
    "frequencies = df['start_location'].value_counts()\n",
    "# Output a Series of locations with 5 or more visits\n",
    "high_frequencies = frequencies[frequencies >= 5]\n",
    "\n",
    "# Output a new DataFrame with only the rows that match one of the most frequent start_location values\n",
    "# add .copy() to avoid an error on the next operation saying `A value is trying to be set on a copy of a slice from a DataFrame.`\n",
    "most_visited_locations = df[df['start_location'].isin(high_frequencies.index)].copy()\n",
    "# Clear the unused start locations from its Category so Seaborn doesn't plot them\n",
    "most_visited_locations['start_location'] = most_visited_locations['start_location'].cat.remove_unused_categories()\n",
    "\n",
    "\n",
    "sns.set(rc={'figure.figsize':(5,8)})\n",
    "sns.countplot(y=most_visited_locations['start_location'], hue=most_visited_locations['rider_id']).set(ylabel=None, xlabel=None, title='Start Locations With More Than 5 Visits, By Rider');"
   ]
  },
  {
   "cell_type": "markdown",
   "id": "4ea6cb52-783a-4ba3-a4e2-c2f0d7fe6509",
   "metadata": {},
   "source": [
    "## Time-based analysis\n",
    "\n",
    "- This looks at how transit happens over different time periods\n",
    "  - What times of day are most common?\n",
    "  - What days of the week are the most common?\n",
    "  - What weeks, months, and quarters of the year had the most trips?\n",
    "  - How many weeks went over the 12 ride fare cap, and how many came close?\n",
    "  - What is the delta between riders per week, month, or quarter? AKA visualize how one rider's frequency compares to the others\n",
    "- Resources\n",
    "  - Floor a date based on a certain field `.dt.floor(\"H\")` https://pandas.pydata.org/docs/reference/api/pandas.Series.dt.floor.html?highlight=floor#pandas.Series.dt.floor\n",
    "  - Count occurrences in a Series https://pandas.pydata.org/docs/reference/api/pandas.Series.value_counts.html\n",
    "  - Seaborn countplot which does the aggregation automatically https://seaborn.pydata.org/generated/seaborn.countplot.html\n",
    "  - DataFrame group by month https://www.statology.org/pandas-group-by-month/\n",
    "  - DataFrame group by multiple columns using square braces https://jamesrledoux.com/code/group-by-aggregate-pandas\n",
    "  - Barplot reference with orient https://seaborn.pydata.org/generated/seaborn.barplot.html\n",
    "  - Converting a numeric month to a named month using calendar https://stackoverflow.com/questions/37625334/convert-month-int-to-month-name-in-pandas\n",
    "  - Breaking up a multi index by running a reset_index https://pandas.pydata.org/docs/reference/api/pandas.Series.reset_index.html\n",
    "  - Pandas time to string convert https://pandas.pydata.org/docs/reference/api/pandas.Series.dt.strftime.html using the Python formatting reference https://docs.python.org/3/library/datetime.html#strftime-and-strptime-behavior\n",
    "  - Convert datetime to day of week https://stackoverflow.com/questions/60214194/error-in-reading-stock-data-datetimeproperties-object-has-no-attribute-week\n",
    "  - Set a specific barplot order https://stackoverflow.com/questions/49034829/keep-weekdays-ordered-on-pandas-boxplot-using-seaborn\n",
    "  - Group dates by quarter https://stackoverflow.com/questions/49362685/transform-a-datetime-column-to-yyyyqx-with-quarter-number\n",
    "  - Format a datetime field into a YYY-WW number https://stackoverflow.com/questions/31181295/converting-a-pandas-date-to-week-number\n",
    "  - Add a vline or hline to an axis in a figure https://matplotlib.org/stable/api/_as_gen/matplotlib.axes.Axes.axvline.html (note that seaborn's line will need to set a variable representing the Axes, and then that variable will be called and modified)\n",
    "  - Set specific x tick or y tick labels `ax.set(xticks=arange(1,22,2))` https://matplotlib.org/stable/api/_as_gen/matplotlib.axes.Axes.set_xticks.html https://stackoverflow.com/questions/58476654/how-to-remove-or-hide-x-axis-labels-from-a-seaborn-matplotlib-plot\n",
    "  - Use `arange` to get a specific list of values https://www.w3resource.com/numpy/array-creation/arange.php\n",
    "  - More xtick information, but not what I used https://matplotlib.org/stable/api/_as_gen/matplotlib.axes.Axes.set_xticks.html though it did note xticklabels should not be used"
   ]
  },
  {
   "cell_type": "code",
   "execution_count": null,
   "id": "778ca770-2941-41b2-a2ea-d5acb5610fd5",
   "metadata": {},
   "outputs": [],
   "source": [
    "# Get the hour in which the start_time occurred\n",
    "df['start_hour'] = df['start_time'].dt.hour\n",
    "\n",
    "sns.set(rc={'figure.figsize':(8,5)})\n",
    "sns.countplot(data=df, x=df['start_hour']).set(ylabel=None, xlabel='Start Hour', title='Trip Start Time');"
   ]
  },
  {
   "cell_type": "code",
   "execution_count": null,
   "id": "452a2d33-40e4-4fa9-9dae-5643ffd68ea6",
   "metadata": {},
   "outputs": [],
   "source": [
    "# Separate out the start hour by rider, to more easily see per-person trends\n",
    "sns.countplot(data=df, x=df['start_hour'], hue=df['rider_id']).set(ylabel=None, xlabel='Start Hour', title='Trip Start Time By Rider');"
   ]
  },
  {
   "cell_type": "code",
   "execution_count": null,
   "id": "56358dad-be1e-41ba-975d-88a3596d02ed",
   "metadata": {},
   "outputs": [],
   "source": [
    "# What days of the week had the most trips?\n",
    "weekday_frequency = df.groupby([df['start_time'].dt.day_name()])['fare_cost'].count()\n",
    "\n",
    "# Convert the Multi Index Series into a DataFrame \n",
    "weekday_frequency = weekday_frequency.reset_index()\n",
    "\n",
    "# Set the order of the fields\n",
    "order = [\"Sunday\", \"Monday\", \"Tuesday\", \"Wednesday\", \"Thursday\", \"Friday\", \"Saturday\"]\n",
    "\n",
    "sns.set(rc={'figure.figsize':(8,5)})\n",
    "sns.barplot(data=weekday_frequency, x='fare_cost', y='start_time', order=order).set(ylabel=None, xlabel='Count', title='Aggregate Rides Per Weekday');"
   ]
  },
  {
   "cell_type": "code",
   "execution_count": null,
   "id": "f3f82d82-92c8-4749-9cc8-02c6577b9bc0",
   "metadata": {},
   "outputs": [],
   "source": [
    "# What days of the week had the most trips per rider?\n",
    "weekday_frequency = df.groupby([df['start_time'].dt.day_name(), df['rider_id']])['fare_cost'].count()\n",
    "\n",
    "# Convert the Multi Index Series into a DataFrame \n",
    "weekday_frequency = weekday_frequency.reset_index()\n",
    "\n",
    "# Set the order of the fields\n",
    "order = [\"Sunday\", \"Monday\", \"Tuesday\", \"Wednesday\", \"Thursday\", \"Friday\", \"Saturday\"]\n",
    "\n",
    "sns.set(rc={'figure.figsize':(8,5)})\n",
    "sns.barplot(data=weekday_frequency, x='fare_cost', y='start_time', order=order, hue='rider_id').set(ylabel=None, xlabel='Count', title='Aggregate Rides Per Weekday Per Rider');"
   ]
  },
  {
   "cell_type": "code",
   "execution_count": null,
   "id": "ce5e15fc-a63d-4fe1-9e51-380e8a7c4c1a",
   "metadata": {},
   "outputs": [],
   "source": [
    "# What weeks of the year have the most trips?\n",
    "week_frequency = df.groupby([df['start_time'].dt.strftime('%W')])['fare_cost'].count()\n",
    "\n",
    "# Convert the Multi Index Series into a DataFrame \n",
    "week_frequency = week_frequency.reset_index()\n",
    "\n",
    "sns.set(rc={'figure.figsize':(12,5)})\n",
    "sns.barplot(data=week_frequency, x='start_time', y='fare_cost').set(ylabel='Count', xlabel='Week Number', title='Aggregate Rides Per Week');"
   ]
  },
  {
   "cell_type": "code",
   "execution_count": null,
   "id": "97f8ed97-4362-4db5-b0c5-ceb64298903f",
   "metadata": {},
   "outputs": [],
   "source": [
    "# What weeks of the year have the most trips per rider?\n",
    "week_frequency = df.groupby([df['start_time'].dt.strftime('%W'), df['rider_id']])['fare_cost'].count()\n",
    "\n",
    "# Convert the Multi Index Series into a DataFrame \n",
    "week_frequency = week_frequency.reset_index()\n",
    "\n",
    "sns.set(rc={'figure.figsize':(12,5)})\n",
    "sns.barplot(data=week_frequency, x='start_time', y='fare_cost', hue='rider_id').set(ylabel='Count', xlabel='Week Number', title='Aggregate Rides Per Week Per Rider');"
   ]
  },
  {
   "cell_type": "code",
   "execution_count": null,
   "id": "b37ba1ab-cf62-49b3-ac24-e86c1c163f8b",
   "metadata": {},
   "outputs": [],
   "source": [
    "# What months of the year had the most trips?\n",
    "month_frequency = df.groupby([df['start_time'].dt.month])['fare_cost'].count()\n",
    "\n",
    "# Convert the Multi Index Series into a DataFrame \n",
    "month_frequency = month_frequency.reset_index()\n",
    "\n",
    "# Relabel the numeric months to named months\n",
    "month_frequency['month'] = month_frequency['start_time'].apply(lambda x: calendar.month_abbr[x])\n",
    "\n",
    "sns.set(rc={'figure.figsize':(8,5)})\n",
    "sns.barplot(data=month_frequency, x='fare_cost', y='month', orient='h').set(ylabel='Month', xlabel='Count', title='Aggregate Rides Per Month');"
   ]
  },
  {
   "cell_type": "code",
   "execution_count": null,
   "id": "74e125ea-c4cf-4f49-b82f-5f64797103c5",
   "metadata": {},
   "outputs": [],
   "source": [
    "# What months of the year have the most trips per rider?\n",
    "month_frequency = df.groupby([df['start_time'].dt.month, df['rider_id']])['fare_cost'].count()\n",
    "\n",
    "# Convert the Multi Index Series into a DataFrame \n",
    "month_frequency = month_frequency.reset_index()\n",
    "\n",
    "# Relabel the numeric months to named months\n",
    "month_frequency['month'] = month_frequency['start_time'].apply(lambda x: calendar.month_abbr[x])\n",
    "\n",
    "sns.barplot(data=month_frequency, x='fare_cost', y='month', orient='h', hue='rider_id').set(ylabel='Month', xlabel='Count', title='Aggregate Rides Per Month Per Rider');"
   ]
  },
  {
   "cell_type": "code",
   "execution_count": null,
   "id": "c7e5abf0-9925-4411-993f-b36ac0777a6c",
   "metadata": {},
   "outputs": [],
   "source": [
    "# What quarters of each year had the most trips?\n",
    "quarter_frequency = df.groupby([df['start_time'].dt.to_period('Q')])['fare_cost'].count()\n",
    "\n",
    "# Convert the Multi Index Series into a DataFrame \n",
    "quarter_frequency = quarter_frequency.reset_index()\n",
    "\n",
    "sns.set(rc={'figure.figsize':(5,5)})\n",
    "sns.barplot(data=quarter_frequency, x='fare_cost', y='start_time').set(ylabel=None, xlabel='Count', title='Rides Per Quarter');"
   ]
  },
  {
   "cell_type": "code",
   "execution_count": null,
   "id": "2de4ca47-1af2-4b23-839d-9dfbf1c38174",
   "metadata": {},
   "outputs": [],
   "source": [
    "# What quarters of each year had the most trips per rider?\n",
    "quarter_frequency = df.groupby([df['start_time'].dt.to_period('Q'), df['rider_id']])['fare_cost'].count()\n",
    "\n",
    "# Convert the Multi Index Series into a DataFrame \n",
    "quarter_frequency = quarter_frequency.reset_index()\n",
    "\n",
    "sns.set(rc={'figure.figsize':(5,5)})\n",
    "sns.barplot(data=quarter_frequency, x='fare_cost', y='start_time', hue='rider_id').set(ylabel=None, xlabel='Count', title='Rides Per Quarter Per Rider');"
   ]
  },
  {
   "cell_type": "code",
   "execution_count": null,
   "id": "0139b074-9dad-4364-85b4-65d166a8b4c0",
   "metadata": {},
   "outputs": [],
   "source": [
    "# How many weeks went over the 12 ride fare cap, and how many came close?\n",
    "# TODO perhaps change this to the resample method, so weeks with 0 transit are still included. Right now week 2021-W44 had no travel and is missing\n",
    "week_frequency = df.groupby([df['start_time'].dt.strftime('%Y-W%U'), df['rider_id']])['fare_cost'].count()\n",
    "\n",
    "# Convert the Multi Index Series into a DataFrame \n",
    "week_frequency = week_frequency.reset_index()\n",
    "\n",
    "sns.set(rc={'figure.figsize':(5,20)})\n",
    "ax = sns.barplot(data=week_frequency, x='fare_cost', y='start_time', hue='rider_id')\n",
    "ax.set(ylabel=None, xlabel='Count', title='Rides Per Week Per Rider', xticks=np.arange(0,20,2))\n",
    "ax.axvline(12,0,1);"
   ]
  },
  {
   "cell_type": "markdown",
   "id": "8ef05fa1-c015-4f04-86fd-cd7bd0843448",
   "metadata": {},
   "source": [
    "## Cost-based analysis \n",
    "\n",
    "- This looks at the financial side of things\n",
    "  - What starting day of the week best utilizes the fare cap?\n",
    "  - What is the average/max monthly spend rate?\n",
    "- Resources\n",
    "  - Resample allows grouping more intelligently by date columns https://pandas.pydata.org/docs/reference/api/pandas.DataFrame.resample.html\n",
    "  - Resample offsets https://pandas.pydata.org/pandas-docs/stable/user_guide/timeseries.html#dateoffset-objects\n",
    "  - More resample info https://pandas.pydata.org/pandas-docs/stable/user_guide/timeseries.html#dateoffset-objects\n",
    "  - Anchored offsets to allow different week start days https://pandas.pydata.org/pandas-docs/stable/user_guide/timeseries.html#anchored-offsets\n",
    "  - I can couple a groupby with a resample https://pandas.pydata.org/docs/reference/api/pandas.core.groupby.DataFrameGroupBy.resample.html\n",
    "  - When dropping columns, remember to include axis=1 https://pandas.pydata.org/docs/reference/api/pandas.DataFrame.drop.html\n",
    "  - Grouping by using a series https://stackoverflow.com/questions/33483670/how-to-group-a-series-by-values-in-pandas https://pandas.pydata.org/docs/reference/api/pandas.Series.groupby.html\n",
    "  - Concatenation of multiple series into a single DataFrame based on their index value (not merging, not joining) https://stackoverflow.com/questions/18083187/combining-two-series-in-pandas-along-their-index https://pandas.pydata.org/docs/reference/api/pandas.concat.html\n",
    "  - Define a function https://www.w3schools.com/python/python_functions.asp\n",
    "  - Sort a dataframe by its index in increasing order https://pandas.pydata.org/docs/reference/api/pandas.DataFrame.sort_index.html\n",
    "  - Seaborn Line Plot https://seaborn.pydata.org/generated/seaborn.lineplot.html\n",
    "  - Collapse a DataFrame into a Series where the rows are the old column titles and the values are the sum of the columns https://sparkbyexamples.com/python/pandas-sum-dataframe-columns\n",
    "  - Catplot https://seaborn.pydata.org/generated/seaborn.catplot.html\n",
    "  - DataFrame renaming using position rather than name https://stackoverflow.com/questions/43759921/pandas-rename-column-by-position\n",
    "  - DataFrame subset selection using double square brackets https://pandas.pydata.org/docs/getting_started/intro_tutorials/03_subset_data.html"
   ]
  },
  {
   "cell_type": "code",
   "execution_count": null,
   "id": "ac068d2d-d044-45ad-add1-2755cd72b0f0",
   "metadata": {},
   "outputs": [],
   "source": [
    "# What starting day of the week best utilizes the fare cap?\n",
    "\n",
    "# Optional: Uncomment to filter based on rider_id\n",
    "#print(df['rider_id'].unique())\n",
    "#df=df[df['rider_id'] == '1234567890']\n",
    "\n",
    "def calculate_weekly_rides(day_of_week):\n",
    "    # Define the anchored offset, aka W-SUN, W-WED, W-FRI, etc. \n",
    "    anchored_offset = 'W-'+day_of_week\n",
    "    # Create a new DataFrame counting the number of rides per week per rider, where the week is defined by the anchored offset\n",
    "    resampled = df.groupby(['rider_id']).resample(anchored_offset, on='start_time').count()\n",
    "    # Remove the groupby column duplicate (that also now exists in the multi-index) that would prevent a reset_index\n",
    "    resampled = resampled.drop(['rider_id'], axis=1)\n",
    "    # Then reset the index and grab an arbitrary column from the resulting DataFrame, as all the columns have identical data\n",
    "    resampled_series = resampled.reset_index()['trip_id']\n",
    "    # Next, group on the number of rides to know how many occurrences exist for each ride count per week\n",
    "    # Finally rename it to the week start day it's representing\n",
    "    resampled_series = resampled_series.groupby(resampled_series).count().rename(day_of_week)\n",
    "    return resampled_series\n",
    "\n",
    "# Use the helper to calculate all possibile week start days and concatenate them into a DataFrame\n",
    "# Sort the index to force ascending order\n",
    "merged = pd.concat([calculate_weekly_rides('SUN'), \n",
    "                    calculate_weekly_rides('MON'),\n",
    "                   calculate_weekly_rides('TUE'),\n",
    "                   calculate_weekly_rides('WED'),\n",
    "                   calculate_weekly_rides('THU'),\n",
    "                   calculate_weekly_rides('FRI'),\n",
    "                   calculate_weekly_rides('SAT')], axis=1).sort_index()\n",
    "\n",
    "# Rename the index to be clearer\n",
    "merged.index = merged.index.rename('Rides Taken')\n",
    "\n",
    "merged"
   ]
  },
  {
   "cell_type": "code",
   "execution_count": null,
   "id": "a94e330a-d643-4e45-8207-d19431f12969",
   "metadata": {},
   "outputs": [],
   "source": [
    "sns.set(rc={'figure.figsize':(8,5)})\n",
    "sns.lineplot(data=merged).set(ylabel='Occurrences', xlabel='Weekly Ride Count', title='Weekly Ride Count With Different Start Days Of The Week', xticks=np.arange(0,26,2));"
   ]
  },
  {
   "cell_type": "code",
   "execution_count": null,
   "id": "3ae779ac-061a-4b6a-9182-0ccff7215841",
   "metadata": {},
   "outputs": [],
   "source": [
    "# How many weeks does the fare cap get reached, based on different start days?\n",
    "\n",
    "# Filter the merged dataframe to rows with index 12 or more, and then group by and sum the number of weeks\n",
    "# Reset the index to convert it to a DataFrame\n",
    "fare_cap_rides = merged[merged.index >= 12].sum().reset_index()\n",
    "# Rename the columns to be more readable\n",
    "fare_cap_rides = fare_cap_rides.rename(columns={fare_cap_rides.columns[0]:'weekday',fare_cap_rides.columns[1]:'count'})\n",
    "\n",
    "sns.set(rc={'figure.figsize':(7,6)})\n",
    "sns.barplot(data=fare_cap_rides, x='weekday', y='count').set(ylabel='Fare Cap Reached Count', xlabel=None, title='Number Of Weeks Fare Cap Was Reached, Based On Week Start Day');"
   ]
  },
  {
   "cell_type": "code",
   "execution_count": null,
   "id": "73402b31-1949-4ae2-aea1-bb2d8f50ead4",
   "metadata": {},
   "outputs": [],
   "source": [
    "# What is the monthly spend rate?\n",
    "\n",
    "# Select only the columns needed for grouping and summing, group and resample, and then sum on the fare cost.\n",
    "# Reset the index to split out the multi index\n",
    "resampled = df[['rider_id','start_time','fare_cost']].groupby(['rider_id']).resample('M', on='start_time').sum().reset_index()\n",
    "# Change the date column to be more readable, YYYY-month instead of YYYY-MM-DD HH:MM:SS\n",
    "resampled['start_time'] = resampled['start_time'].dt.strftime('%Y-%b')\n",
    "\n",
    "sns.set(rc={'figure.figsize':(5,8)})\n",
    "sns.barplot(x='fare_cost', y='start_time', hue='rider_id', data=resampled).set(ylabel=None, xlabel='Monthly Cost ($)', title='Monthly Transit Cost Per Rider', xticks=np.arange(0,100,10));"
   ]
  },
  {
   "cell_type": "code",
   "execution_count": null,
   "id": "0c167245-0af2-471e-8760-0ddf272b2ac3",
   "metadata": {},
   "outputs": [],
   "source": [
    "# What is the annual spend rate?\n",
    "\n",
    "# Select only the columns needed for grouping and summing, group and resample, and then sum on the fare cost.\n",
    "# Reset the index to split out the multi index\n",
    "resampled = df[['rider_id','start_time','fare_cost']].groupby(['rider_id']).resample('Y', on='start_time').sum().reset_index()\n",
    "# Change the date column to be more readable, YYYY instead of YYYY-MM-DD HH:MM:SS\n",
    "resampled['start_time'] = resampled['start_time'].dt.strftime('%Y')\n",
    "\n",
    "sns.set(rc={'figure.figsize':(5,5)})\n",
    "sns.barplot(y='fare_cost', x='start_time', hue='rider_id', data=resampled).set(xlabel=None, ylabel='Annual Cost ($)', title='Annual Transit Cost Per Rider', yticks=np.arange(0,800,50));"
   ]
  },
  {
   "cell_type": "code",
   "execution_count": null,
   "id": "6ebf6e96-d9a1-4334-bd22-a7d7133a13a5",
   "metadata": {},
   "outputs": [],
   "source": [
    "# How much savings were there from the fare cap?\n",
    "\n",
    "free_rides = df[df['fare_cost'] == 0]\n",
    "free_rides = free_rides[free_rides['product_type'].str.contains('Fare Cap')]\n",
    "print('So far, there have been',len(free_rides),'rides that were free due to the fare cap being reached')\n",
    "free_rides"
   ]
  },
  {
   "cell_type": "code",
   "execution_count": null,
   "id": "509c0e75-4b48-487a-94a6-a63610cc3271",
   "metadata": {},
   "outputs": [],
   "source": [
    "# How many free transfers were there?\n",
    "\n",
    "free_rides = df[df['fare_cost'] == 0]\n",
    "free_rides = free_rides[free_rides['product_type'].str.contains('Transfer')]\n",
    "print('So far, there have been',len(free_rides),' rides that were free transfers')"
   ]
  }
 ],
 "metadata": {
  "kernelspec": {
   "display_name": "Python 3 (ipykernel)",
   "language": "python",
   "name": "python3"
  },
  "language_info": {
   "codemirror_mode": {
    "name": "ipython",
    "version": 3
   },
   "file_extension": ".py",
   "mimetype": "text/x-python",
   "name": "python",
   "nbconvert_exporter": "python",
   "pygments_lexer": "ipython3",
   "version": "3.11.4"
  }
 },
 "nbformat": 4,
 "nbformat_minor": 5
}
