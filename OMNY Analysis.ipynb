{
 "cells": [
  {
   "cell_type": "markdown",
   "id": "88fe7c26-3814-46ba-aae7-4628d45011c5",
   "metadata": {},
   "source": [
    "# OMNY Analysis\n",
    "\n",
    "This notebook is created with the goal of analysing transit data. By passing in a CSV dataset exported by NYC MTA's OMNY fare system, information such as time of day, trips per week, most-visited locations, and more can be determined"
   ]
  },
  {
   "cell_type": "markdown",
   "id": "68a474c2-1b4b-4e64-99fa-6e2cdf2389ed",
   "metadata": {},
   "source": [
    "## Getting the CSV Data\n",
    "\n",
    "- Go to https://omny.info/ and log in\n",
    "- Go to Trips https://omny.info/account/trips and update the filter to show the past 12 months (the max time range possible)\n",
    "- Scroll to the bottom of the page, click \"Download trip history\" and pick CSV and then download\n",
    "- (Optional) manually merge this data with previously-downloaded data using Excel or Sublime\n",
    "  - Alternatively, Pandas can read multiple CSV files and pick unique rows\n",
    "- Place the CSV files in the same directory as the Jupyter notebook, aka this Git repo"
   ]
  },
  {
   "cell_type": "code",
   "execution_count": null,
   "id": "1e1ddd41-4cdd-465b-bf50-53bcae3a7335",
   "metadata": {},
   "outputs": [],
   "source": [
    "# Load libraries\n",
    "import pandas as pd # pd is the standard alias https://pandas.pydata.org/docs/getting_started/intro_tutorials/01_table_oriented.html\n",
    "import seaborn as sns # sns is the convention https://seaborn.pydata.org/tutorial/introduction.html"
   ]
  },
  {
   "cell_type": "markdown",
   "id": "e75012d8-7568-439c-b629-2000284267b3",
   "metadata": {},
   "source": [
    "## Loading the CSV Data\n",
    "\n",
    "- Read the CSV files into Pandas as separate dataframes\n",
    "- Merge them together using concat\n",
    "- Get the unique rows based on Reference ID, in case the OMNY exports had overlapping data\n",
    "- Resources\n",
    "  - https://medium.com/@harryfry/combining-multiple-csv-files-into-one-with-pandas-97f631d67960\n",
    "  - https://www.geeksforgeeks.org/how-to-merge-multiple-csv-files-into-a-single-pandas-dataframe/#\n",
    "  - Use lower_case_with_underscore https://peps.python.org/pep-0008/#function-and-variable-names\n",
    "  - https://pandas.pydata.org/docs/reference/api/pandas.DataFrame.drop_duplicates.html\n",
    "  - https://pandas.pydata.org/docs/reference/api/pandas.concat.html"
   ]
  },
  {
   "cell_type": "code",
   "execution_count": null,
   "id": "8f407421-b04b-4fdf-b939-78b790e367bd",
   "metadata": {},
   "outputs": [],
   "source": [
    "# Edit this to update the CSV data files to be considered\n",
    "files_to_read = ['trip-history.csv','trip-history2.csv','trip-history3.csv']\n",
    "\n",
    "# Read from CSV and concatenate in one line\n",
    "# Index is not important and can be ignored \n",
    "df = pd.concat(map(pd.read_csv, files_to_read), ignore_index=True)\n",
    "\n",
    "print('Raw CSV Data has row count of', len(df))\n",
    "\n",
    "# Reference is a unique ID per fare payment, and can be used to get unique rows\n",
    "df.drop_duplicates(subset=['Reference'],inplace=True,ignore_index=True)\n",
    "\n",
    "print('Unique CSV Data has row count of', len(df))\n"
   ]
  },
  {
   "cell_type": "markdown",
   "id": "c372128e-a93d-43a7-99ab-9eabcf19ef23",
   "metadata": {},
   "source": [
    "## Massage and Format the DataFrame\n",
    "\n",
    "- The DataFrame, upon initial read from CSV, is mostly Objects\n",
    "```\n",
    "Data columns (total 7 columns):\n",
    " #   Column             Dtype \n",
    "---  ------             ----- \n",
    " 0   Reference          int64 \n",
    " 1   Transit Account #  int64 \n",
    " 2   Trip Time          object\n",
    " 3   Mode               object\n",
    " 4   Location           object\n",
    " 5   Product Type       object\n",
    " 6   Fare Amount ($)    object\n",
    "dtypes: int64(2), object(5)\n",
    "```\n",
    "- However, many of the fields are categorical, meaning there is a finite set of possibile values. This allows Pandas to process it more efficiently\n",
    "- Some fields are also date-based or numeric, and can be interpreted as such\n",
    "- The column names can also be hard to reference, given their whitespace and special characters. They can be renamed\n",
    "- Resources\n",
    "  - https://pandas.pydata.org/docs/reference/api/pandas.DataFrame.rename.html\n",
    "  - https://pandas.pydata.org/docs/reference/api/pandas.DataFrame.info.html#pandas.DataFrame.info\n",
    "  - https://pandas.pydata.org/docs/reference/api/pandas.DataFrame.astype.html\n",
    "  - https://lifewithdata.com/2022/02/28/how-to-convert-a-string-column-to-float-in-pandas/\n",
    "  - https://stackoverflow.com/questions/32464280/converting-currency-with-to-numbers-in-python-pandas\n",
    "  - https://pandas.pydata.org/docs/reference/api/pandas.to_datetime.html"
   ]
  },
  {
   "cell_type": "code",
   "execution_count": null,
   "id": "37c7376b-2a1a-4dbc-bed5-ea5edd92a454",
   "metadata": {},
   "outputs": [],
   "source": [
    "# Rename columns to be easier to reference\n",
    "df = df.rename(columns={'Reference':'trip_id',\n",
    "                   'Transit Account #':'rider_id',\n",
    "                   'Trip Time':'start_time',\n",
    "                   'Mode':'transit_mode',\n",
    "                   'Location':'start_location',\n",
    "                   'Product Type':'product_type',\n",
    "                   'Fare Amount ($)':'fare_cost'})\n",
    "\n",
    "# Convert categorical fields from object to category\n",
    "df = df.astype({'rider_id': 'category','transit_mode': 'category','start_location': 'category','product_type': 'category'})\n",
    "\n",
    "# Convert object column with \"$2.75\" to a float, stripping out the $ to prepare it for interpretation\n",
    "df['fare_cost'] = df['fare_cost'].astype(str).str.replace('$', '').astype(float)\n",
    "\n",
    "\n",
    "# Convert Trip Time object column with value such as 2022-07-19 20:50:29 into a datetime type\n",
    "df['start_time'] = pd.to_datetime(df['start_time'])\n",
    "\n",
    "\n",
    "\n",
    "df.info(show_counts=False)\n",
    "df"
   ]
  },
  {
   "cell_type": "markdown",
   "id": "e2d5b186-1e53-4f0c-8784-e68351ec9695",
   "metadata": {},
   "source": [
    "## Location-based analysis\n",
    "\n",
    "- This looks at how the different locations and stops in the MTA system are accessed. \n",
    "  - How many locations have only been visited once?\n",
    "  - What are the most popular locations?\n",
    "  - Do the different rider_ids frequent different locations?\n",
    "- Resources\n",
    "  - https://subwaystats.com/ has a full list of station names for the subway\n",
    "  - Use a semicolon after plotting to avoid text such as `<Axes: xlabel='count', ylabel='start_location'>` from showing before the plot https://stackoverflow.com/questions/57165540/hide-text-before-seaborn-barplot\n",
    "  - Use `sns.set(rc={'figure.figsize':(5,20)})` (x,y) to change the plot size https://stackoverflow.com/questions/31594549/how-to-change-the-figure-size-of-a-seaborn-axes-or-figure-level-plot\n",
    "  - Add `.set(xlabel='x-axis label', ylabel='y-axis label')` to add specific labels https://www.statology.org/seaborn-axis-labels/\n",
    "  - Add a title using the same method, `.set(title='title')` https://www.statology.org/seaborn-title/\n",
    "  - Order by the number of occurrences https://stackoverflow.com/questions/46623583/order-categories-by-count-in-a-seaborn-countplot\n",
    "  - Mix this with `.iloc[:10]` before `.index` to limit to the top 10 https://stackoverflow.com/questions/32891211/limit-the-number-of-groups-shown-in-seaborn-countplot\n",
    "  - Get an Index from a series or dataframe and convert it to a full list of its values https://pandas.pydata.org/docs/reference/api/pandas.Index.tolist.html\n",
    "  - Get a Series based on frequency/count https://stackoverflow.com/questions/48628417/how-to-select-rows-in-pandas-dataframe-where-value-appears-more-than-once\n",
    "  - Prevent the error `A value is trying to be set on a copy of a slice from a DataFrame.` by using .copy() https://stackoverflow.com/questions/44028898/a-value-is-trying-to-be-set-on-a-copy-of-a-slice-from-a-dataframe-pandas\n",
    "  - Select rows matching a certain list of values `df[df['A'].isin([3, 6])]` https://stackoverflow.com/questions/12096252/use-a-list-of-values-to-select-rows-from-a-pandas-dataframe\n",
    "  - Categories stick around until removed manually https://pandas.pydata.org/docs/reference/api/pandas.CategoricalIndex.remove_unused_categories.html"
   ]
  },
  {
   "cell_type": "code",
   "execution_count": null,
   "id": "80dd809c-3c26-4e80-a03a-17c825697f1b",
   "metadata": {},
   "outputs": [],
   "source": [
    "sns.set(rc={'figure.figsize':(5,5)})\n",
    "sns.countplot(y=df['start_location'], order=df['start_location'].value_counts().iloc[:15].index).set(ylabel=None, xlabel=None, title='Start Location Frequency (Top 15)');\n"
   ]
  },
  {
   "cell_type": "code",
   "execution_count": null,
   "id": "7f17dfc4-57b8-4c0f-a028-68be2ad28301",
   "metadata": {},
   "outputs": [],
   "source": [
    "sns.set(rc={'figure.figsize':(5,20)})\n",
    "sns.countplot(y=df['start_location']).set(ylabel=None, xlabel=None, title='Start Location Frequency (Alphabetical)');\n"
   ]
  },
  {
   "cell_type": "code",
   "execution_count": null,
   "id": "b69af66f-e0bd-4b7c-b119-ec96eefb8b85",
   "metadata": {},
   "outputs": [],
   "source": [
    "# Output a Series with the Index as the location and the Value as the count\n",
    "frequencies = df['start_location'].value_counts()\n",
    "\n",
    "# Use the Series with a filter to get only the locations with a count of 1, and then get the count and the list of indices (location names)\n",
    "print('Locations that have been visited only once:', len(frequencies[frequencies == 1]), frequencies[frequencies == 1].index.to_list())\n",
    "\n",
    "\n"
   ]
  },
  {
   "cell_type": "code",
   "execution_count": null,
   "id": "d24b3d25-1345-4e43-976d-5838459efa96",
   "metadata": {},
   "outputs": [],
   "source": [
    "# Output a Series with the Index as the location and the Value as the count\n",
    "frequencies = df['start_location'].value_counts()\n",
    "# Output a Series of locations with 5 or more visits\n",
    "high_frequencies = frequencies[frequencies >= 5]\n",
    "\n",
    "# Output a new DataFrame with only the rows that match one of the most frequent start_location values\n",
    "# add .copy() to avoid an error on the next operation saying `A value is trying to be set on a copy of a slice from a DataFrame.`\n",
    "most_visited_locations = df[df['start_location'].isin(high_frequencies.index)].copy()\n",
    "# Clear the unused start locations from its Category so Seaborn doesn't plot them\n",
    "most_visited_locations['start_location'] = most_visited_locations['start_location'].cat.remove_unused_categories()\n",
    "\n",
    "\n",
    "sns.set(rc={'figure.figsize':(5,8)})\n",
    "sns.countplot(y=most_visited_locations['start_location'], hue=most_visited_locations['rider_id']).set(ylabel=None, xlabel=None, title='Start Locations With More Than 5 Visits, By Rider');\n"
   ]
  },
  {
   "cell_type": "markdown",
   "id": "4ea6cb52-783a-4ba3-a4e2-c2f0d7fe6509",
   "metadata": {},
   "source": [
    "## Time-based analysis\n",
    "\n",
    "- This looks at how transit happens over different time periods\n",
    "  - What times of day are most common?\n",
    "  - What weeks, months, and quarters of the year had the most trips?\n",
    "  - How many weeks went over the 12 ride fare cap, and how many came close?\n",
    "- Resources\n",
    "  - TBD"
   ]
  },
  {
   "cell_type": "code",
   "execution_count": null,
   "id": "778ca770-2941-41b2-a2ea-d5acb5610fd5",
   "metadata": {},
   "outputs": [],
   "source": []
  },
  {
   "cell_type": "markdown",
   "id": "8ef05fa1-c015-4f04-86fd-cd7bd0843448",
   "metadata": {},
   "source": [
    "## Cost-based analysis \n",
    "\n",
    "- This looks at the financial side of things\n",
    "  - What starting day of the week best utilizes the fare cap?\n",
    "  - What is the average/max monthly spend rate?\n",
    "- Resources\n",
    "  - TBD"
   ]
  }
 ],
 "metadata": {
  "kernelspec": {
   "display_name": "Python 3 (ipykernel)",
   "language": "python",
   "name": "python3"
  },
  "language_info": {
   "codemirror_mode": {
    "name": "ipython",
    "version": 3
   },
   "file_extension": ".py",
   "mimetype": "text/x-python",
   "name": "python",
   "nbconvert_exporter": "python",
   "pygments_lexer": "ipython3",
   "version": "3.11.4"
  }
 },
 "nbformat": 4,
 "nbformat_minor": 5
}
